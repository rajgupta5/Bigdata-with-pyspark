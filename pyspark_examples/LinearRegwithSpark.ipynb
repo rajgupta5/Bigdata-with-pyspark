{
 "cells": [
  {
   "cell_type": "code",
   "execution_count": 2,
   "metadata": {},
   "outputs": [
    {
     "ename": "ModuleNotFoundError",
     "evalue": "No module named 'findspark'",
     "output_type": "error",
     "traceback": [
      "\u001B[0;31m---------------------------------------------------------------------------\u001B[0m",
      "\u001B[0;31mModuleNotFoundError\u001B[0m                       Traceback (most recent call last)",
      "\u001B[0;32m<ipython-input-2-8aea19ae80de>\u001B[0m in \u001B[0;36m<module>\u001B[0;34m\u001B[0m\n\u001B[1;32m      1\u001B[0m \u001B[0;32mfrom\u001B[0m \u001B[0m__future__\u001B[0m \u001B[0;32mimport\u001B[0m \u001B[0mprint_function\u001B[0m\u001B[0;34m\u001B[0m\u001B[0;34m\u001B[0m\u001B[0m\n\u001B[0;32m----> 2\u001B[0;31m \u001B[0;32mimport\u001B[0m \u001B[0mfindspark\u001B[0m\u001B[0;34m\u001B[0m\u001B[0;34m\u001B[0m\u001B[0m\n\u001B[0m\u001B[1;32m      3\u001B[0m \u001B[0mfindspark\u001B[0m\u001B[0;34m.\u001B[0m\u001B[0minit\u001B[0m\u001B[0;34m(\u001B[0m\u001B[0;34m)\u001B[0m\u001B[0;34m\u001B[0m\u001B[0;34m\u001B[0m\u001B[0m\n\u001B[1;32m      4\u001B[0m \u001B[0mfindspark\u001B[0m\u001B[0;34m.\u001B[0m\u001B[0mfind\u001B[0m\u001B[0;34m(\u001B[0m\u001B[0;34m)\u001B[0m\u001B[0;34m\u001B[0m\u001B[0;34m\u001B[0m\u001B[0m\n\u001B[1;32m      5\u001B[0m \u001B[0;32mimport\u001B[0m \u001B[0mpyspark\u001B[0m\u001B[0;34m\u001B[0m\u001B[0;34m\u001B[0m\u001B[0m\n",
      "\u001B[0;31mModuleNotFoundError\u001B[0m: No module named 'findspark'"
     ]
    }
   ],
   "source": [
    "from __future__ import print_function\n",
    "import findspark\n",
    "findspark.init()\n",
    "findspark.find()\n",
    "import pyspark\n",
    "findspark.find()\n",
    "from pyspark.sql import SparkSession\n",
    "from pyspark.ml.feature import VectorAssembler\n",
    "from pyspark.ml.regression import LinearRegression"
   ]
  },
  {
   "cell_type": "code",
   "execution_count": 2,
   "metadata": {},
   "outputs": [],
   "source": [
    "if __name__ == \"__main__\":\n",
    "    spark = SparkSession\\\n",
    "        .builder\\\n",
    "        .appName(\"LinearRegWithSpark\")\\\n",
    "        .getOrCreate()"
   ]
  },
  {
   "cell_type": "code",
   "execution_count": 3,
   "metadata": {},
   "outputs": [
    {
     "ename": "NameError",
     "evalue": "name 'spark' is not defined",
     "output_type": "error",
     "traceback": [
      "\u001B[0;31m---------------------------------------------------------------------------\u001B[0m",
      "\u001B[0;31mNameError\u001B[0m                                 Traceback (most recent call last)",
      "\u001B[0;32m<ipython-input-3-ac53e4f69077>\u001B[0m in \u001B[0;36m<module>\u001B[0;34m\u001B[0m\n\u001B[0;32m----> 1\u001B[0;31m \u001B[0mdataset\u001B[0m \u001B[0;34m=\u001B[0m \u001B[0mspark\u001B[0m\u001B[0;34m.\u001B[0m\u001B[0mread\u001B[0m\u001B[0;34m.\u001B[0m\u001B[0mcsv\u001B[0m\u001B[0;34m(\u001B[0m\u001B[0;34m\"data\\Admission_Prediction.csv\"\u001B[0m\u001B[0;34m,\u001B[0m\u001B[0mheader\u001B[0m\u001B[0;34m=\u001B[0m\u001B[0;32mTrue\u001B[0m\u001B[0;34m)\u001B[0m\u001B[0;34m\u001B[0m\u001B[0;34m\u001B[0m\u001B[0m\n\u001B[0m\u001B[1;32m      2\u001B[0m \u001B[0;34m\u001B[0m\u001B[0m\n",
      "\u001B[0;31mNameError\u001B[0m: name 'spark' is not defined"
     ]
    }
   ],
   "source": [
    "dataset = spark.read.csv(\"data\\Admission_Prediction.csv\",header=True)"
   ]
  },
  {
   "cell_type": "code",
   "execution_count": 4,
   "metadata": {},
   "outputs": [
    {
     "ename": "NameError",
     "evalue": "name 'dataset' is not defined",
     "output_type": "error",
     "traceback": [
      "\u001B[0;31m---------------------------------------------------------------------------\u001B[0m",
      "\u001B[0;31mNameError\u001B[0m                                 Traceback (most recent call last)",
      "\u001B[0;32m<ipython-input-4-853daf008cb1>\u001B[0m in \u001B[0;36m<module>\u001B[0;34m\u001B[0m\n\u001B[0;32m----> 1\u001B[0;31m \u001B[0mdataset\u001B[0m\u001B[0;34m.\u001B[0m\u001B[0mshow\u001B[0m\u001B[0;34m(\u001B[0m\u001B[0;34m)\u001B[0m\u001B[0;34m\u001B[0m\u001B[0;34m\u001B[0m\u001B[0m\n\u001B[0m\u001B[1;32m      2\u001B[0m \u001B[0;34m\u001B[0m\u001B[0m\n",
      "\u001B[0;31mNameError\u001B[0m: name 'dataset' is not defined"
     ]
    }
   ],
   "source": [
    "dataset.show()"
   ]
  },
  {
   "cell_type": "code",
   "execution_count": 5,
   "metadata": {},
   "outputs": [
    {
     "ename": "NameError",
     "evalue": "name 'dataset' is not defined",
     "output_type": "error",
     "traceback": [
      "\u001B[0;31m---------------------------------------------------------------------------\u001B[0m",
      "\u001B[0;31mNameError\u001B[0m                                 Traceback (most recent call last)",
      "\u001B[0;32m<ipython-input-5-6950ae7a1ca1>\u001B[0m in \u001B[0;36m<module>\u001B[0;34m\u001B[0m\n\u001B[0;32m----> 1\u001B[0;31m \u001B[0mdataset\u001B[0m\u001B[0;34m.\u001B[0m\u001B[0mprintSchema\u001B[0m\u001B[0;34m(\u001B[0m\u001B[0;34m)\u001B[0m\u001B[0;34m\u001B[0m\u001B[0;34m\u001B[0m\u001B[0m\n\u001B[0m\u001B[1;32m      2\u001B[0m \u001B[0;34m\u001B[0m\u001B[0m\n",
      "\u001B[0;31mNameError\u001B[0m: name 'dataset' is not defined"
     ]
    }
   ],
   "source": [
    "dataset.printSchema()"
   ]
  },
  {
   "cell_type": "code",
   "execution_count": 6,
   "metadata": {},
   "outputs": [
    {
     "ename": "ModuleNotFoundError",
     "evalue": "No module named 'pyspark'",
     "output_type": "error",
     "traceback": [
      "\u001B[0;31m---------------------------------------------------------------------------\u001B[0m",
      "\u001B[0;31mModuleNotFoundError\u001B[0m                       Traceback (most recent call last)",
      "\u001B[0;32m<ipython-input-6-19d78fcf7e12>\u001B[0m in \u001B[0;36m<module>\u001B[0;34m\u001B[0m\n\u001B[0;32m----> 1\u001B[0;31m \u001B[0;32mfrom\u001B[0m \u001B[0mpyspark\u001B[0m\u001B[0;34m.\u001B[0m\u001B[0msql\u001B[0m\u001B[0;34m.\u001B[0m\u001B[0mfunctions\u001B[0m \u001B[0;32mimport\u001B[0m \u001B[0mcol\u001B[0m\u001B[0;34m\u001B[0m\u001B[0;34m\u001B[0m\u001B[0m\n\u001B[0m\u001B[1;32m      2\u001B[0m \u001B[0mnew_data\u001B[0m \u001B[0;34m=\u001B[0m \u001B[0mdataset\u001B[0m\u001B[0;34m.\u001B[0m\u001B[0mselect\u001B[0m\u001B[0;34m(\u001B[0m\u001B[0;34m*\u001B[0m\u001B[0;34m(\u001B[0m\u001B[0mcol\u001B[0m\u001B[0;34m(\u001B[0m\u001B[0mc\u001B[0m\u001B[0;34m)\u001B[0m\u001B[0;34m.\u001B[0m\u001B[0mcast\u001B[0m\u001B[0;34m(\u001B[0m\u001B[0;34m\"float\"\u001B[0m\u001B[0;34m)\u001B[0m\u001B[0;34m.\u001B[0m\u001B[0malias\u001B[0m\u001B[0;34m(\u001B[0m\u001B[0mc\u001B[0m\u001B[0;34m)\u001B[0m \u001B[0;32mfor\u001B[0m \u001B[0mc\u001B[0m \u001B[0;32min\u001B[0m \u001B[0mdataset\u001B[0m\u001B[0;34m.\u001B[0m\u001B[0mcolumns\u001B[0m\u001B[0;34m)\u001B[0m\u001B[0;34m)\u001B[0m\u001B[0;34m\u001B[0m\u001B[0;34m\u001B[0m\u001B[0m\n\u001B[1;32m      3\u001B[0m \u001B[0;34m\u001B[0m\u001B[0m\n",
      "\u001B[0;31mModuleNotFoundError\u001B[0m: No module named 'pyspark'"
     ]
    }
   ],
   "source": [
    "from pyspark.sql.functions import col\n",
    "new_data = dataset.select(*(col(c).cast(\"float\").alias(c) for c in dataset.columns))"
   ]
  },
  {
   "cell_type": "code",
   "execution_count": 7,
   "metadata": {},
   "outputs": [
    {
     "name": "stdout",
     "output_type": "stream",
     "text": [
      "root\n",
      " |-- GRE Score: float (nullable = true)\n",
      " |-- TOEFL Score: float (nullable = true)\n",
      " |-- University Rating: float (nullable = true)\n",
      " |-- SOP: float (nullable = true)\n",
      " |-- LOR: float (nullable = true)\n",
      " |-- CGPA: float (nullable = true)\n",
      " |-- Research: float (nullable = true)\n",
      " |-- Chance of Admit: float (nullable = true)\n",
      "\n"
     ]
    }
   ],
   "source": [
    "new_data.printSchema()"
   ]
  },
  {
   "cell_type": "code",
   "execution_count": 8,
   "metadata": {},
   "outputs": [],
   "source": [
    "from pyspark.sql.functions import col, count, isnan, when"
   ]
  },
  {
   "cell_type": "code",
   "execution_count": 9,
   "metadata": {},
   "outputs": [],
   "source": [
    "#let's check for missing values"
   ]
  },
  {
   "cell_type": "code",
   "execution_count": 10,
   "metadata": {},
   "outputs": [
    {
     "name": "stdout",
     "output_type": "stream",
     "text": [
      "+---------+-----------+-----------------+---+---+----+--------+---------------+\n",
      "|GRE Score|TOEFL Score|University Rating|SOP|LOR|CGPA|Research|Chance of Admit|\n",
      "+---------+-----------+-----------------+---+---+----+--------+---------------+\n",
      "|       15|         10|               15|  0|  0|   0|       0|              0|\n",
      "+---------+-----------+-----------------+---+---+----+--------+---------------+\n",
      "\n"
     ]
    }
   ],
   "source": [
    "#checking for null ir nan type values in our columns\n",
    "new_data.select([count(when(col(c).isNull(), c)).alias(c) for c in new_data.columns]).show()"
   ]
  },
  {
   "cell_type": "code",
   "execution_count": 11,
   "metadata": {},
   "outputs": [],
   "source": [
    "from pyspark.ml.feature import Imputer"
   ]
  },
  {
   "cell_type": "code",
   "execution_count": 12,
   "metadata": {},
   "outputs": [],
   "source": [
    "imputer = Imputer(inputCols=[\"GRE Score\", \"TOEFL Score\",\"University Rating\"], \n",
    "                  outputCols=[\"GRE Score\", \"TOEFL Score\",\"University Rating\"])\n",
    "model = imputer.fit(new_data)\n",
    "\n",
    "imputed_data = model.transform(new_data)"
   ]
  },
  {
   "cell_type": "code",
   "execution_count": 13,
   "metadata": {},
   "outputs": [
    {
     "name": "stdout",
     "output_type": "stream",
     "text": [
      "+---------+-----------+-----------------+---+---+----+--------+---------------+\n",
      "|GRE Score|TOEFL Score|University Rating|SOP|LOR|CGPA|Research|Chance of Admit|\n",
      "+---------+-----------+-----------------+---+---+----+--------+---------------+\n",
      "|        0|          0|                0|  0|  0|   0|       0|              0|\n",
      "+---------+-----------+-----------------+---+---+----+--------+---------------+\n",
      "\n"
     ]
    }
   ],
   "source": [
    "#checking for null ir nan type values in our columns\n",
    "imputed_data.select([count(when(col(c).isNull(), c)).alias(c) for c in imputed_data.columns]).show()"
   ]
  },
  {
   "cell_type": "code",
   "execution_count": 14,
   "metadata": {},
   "outputs": [],
   "source": [
    "features = imputed_data.drop('Chance of Admit')"
   ]
  },
  {
   "cell_type": "code",
   "execution_count": 15,
   "metadata": {},
   "outputs": [],
   "source": [
    "#let's assemble our features together using vectorAssembler\n",
    "assembler = VectorAssembler(\n",
    "    inputCols=features.columns,\n",
    "    outputCol=\"features\")"
   ]
  },
  {
   "cell_type": "code",
   "execution_count": 16,
   "metadata": {},
   "outputs": [],
   "source": [
    "output = assembler.transform(imputed_data)"
   ]
  },
  {
   "cell_type": "code",
   "execution_count": 17,
   "metadata": {},
   "outputs": [],
   "source": [
    "output= output.select(\"features\", \"Chance of Admit\")"
   ]
  },
  {
   "cell_type": "code",
   "execution_count": 18,
   "metadata": {},
   "outputs": [],
   "source": [
    "train_df,test_df = output.randomSplit([0.7, 0.3])"
   ]
  },
  {
   "cell_type": "code",
   "execution_count": 19,
   "metadata": {},
   "outputs": [
    {
     "name": "stdout",
     "output_type": "stream",
     "text": [
      "+--------------------+---------------+\n",
      "|            features|Chance of Admit|\n",
      "+--------------------+---------------+\n",
      "|[293.0,97.0,2.0,2...|           0.64|\n",
      "|[294.0,93.0,1.0,1...|           0.46|\n",
      "|[294.0,95.0,1.0,1...|           0.49|\n",
      "|[295.0,96.0,2.0,1...|           0.47|\n",
      "|[295.0,99.0,1.0,2...|           0.37|\n",
      "|[295.0,99.0,2.0,2...|           0.57|\n",
      "|[295.0,101.0,2.0,...|           0.69|\n",
      "|[296.0,95.0,2.0,3...|           0.44|\n",
      "|[296.0,97.0,2.0,1...|           0.49|\n",
      "|[296.0,99.0,2.0,2...|           0.61|\n",
      "|[296.0,101.0,1.0,...|            0.6|\n",
      "|[297.0,96.0,2.0,2...|           0.43|\n",
      "|[297.0,98.0,2.0,2...|           0.59|\n",
      "|[297.0,99.0,4.0,3...|           0.54|\n",
      "|[297.0,100.0,1.0,...|           0.52|\n",
      "|[297.0,101.0,3.0,...|           0.57|\n",
      "|[298.0,92.0,1.0,2...|           0.51|\n",
      "|[298.0,97.0,3.121...|           0.45|\n",
      "|[298.0,98.0,2.0,1...|           0.44|\n",
      "|[298.0,99.0,1.0,1...|           0.53|\n",
      "+--------------------+---------------+\n",
      "only showing top 20 rows\n",
      "\n",
      "+--------------------+---------------+\n",
      "|            features|Chance of Admit|\n",
      "+--------------------+---------------+\n",
      "|[290.0,100.0,1.0,...|           0.47|\n",
      "|[290.0,104.0,4.0,...|           0.45|\n",
      "|[295.0,93.0,1.0,2...|           0.46|\n",
      "|[296.0,99.0,2.0,3...|           0.47|\n",
      "|[297.0,96.0,2.0,2...|           0.34|\n",
      "|[298.0,98.0,2.0,4...|           0.34|\n",
      "|[299.0,100.0,3.0,...|           0.63|\n",
      "|[299.0,100.0,3.0,...|           0.42|\n",
      "|[300.0,99.0,1.0,1...|           0.58|\n",
      "|[300.0,100.0,3.12...|           0.62|\n",
      "|[300.0,101.0,3.0,...|           0.59|\n",
      "|[300.0,102.0,2.0,...|           0.56|\n",
      "|[300.0,102.0,3.0,...|           0.63|\n",
      "|[300.0,104.0,3.0,...|           0.71|\n",
      "|[301.0,97.0,2.0,3...|           0.44|\n",
      "|[301.0,98.0,1.0,2...|           0.67|\n",
      "|[301.0,99.0,2.0,3...|           0.64|\n",
      "|[301.0,104.0,3.0,...|           0.68|\n",
      "|[302.0,99.0,2.0,1...|           0.56|\n",
      "|[302.0,102.0,1.0,...|            0.5|\n",
      "+--------------------+---------------+\n",
      "only showing top 20 rows\n",
      "\n"
     ]
    }
   ],
   "source": [
    "train_df.show()\n",
    "test_df.show()"
   ]
  },
  {
   "cell_type": "code",
   "execution_count": 20,
   "metadata": {},
   "outputs": [],
   "source": [
    "lin_reg = LinearRegression(featuresCol = 'features', labelCol='Chance of Admit')\n",
    "linear_model = lin_reg.fit(train_df)\n"
   ]
  },
  {
   "cell_type": "code",
   "execution_count": 21,
   "metadata": {},
   "outputs": [
    {
     "name": "stdout",
     "output_type": "stream",
     "text": [
      "Coefficients: [0.001839160173256644,0.0034685604433953494,0.0019849135704206287,2.2081004658193452e-05,0.016441676636086394,0.11809415103249826,0.02650787281763461]\n",
      "Intercept: -1.3214512480269756\n"
     ]
    }
   ],
   "source": [
    "print(\"Coefficients: \" + str(linear_model.coefficients))\n",
    "print(\"Intercept: \" + str(linear_model.intercept))"
   ]
  },
  {
   "cell_type": "code",
   "execution_count": 22,
   "metadata": {},
   "outputs": [
    {
     "name": "stdout",
     "output_type": "stream",
     "text": [
      "RMSE: 0.057935\n",
      "r2: 0.829099\n"
     ]
    }
   ],
   "source": [
    "trainSummary = linear_model.summary\n",
    "print(\"RMSE: %f\" % trainSummary.rootMeanSquaredError)\n",
    "print(\"r2: %f\" % trainSummary.r2)"
   ]
  },
  {
   "cell_type": "code",
   "execution_count": 23,
   "metadata": {},
   "outputs": [
    {
     "name": "stdout",
     "output_type": "stream",
     "text": [
      "+-------------------+---------------+--------------------+\n",
      "|         prediction|Chance of Admit|            features|\n",
      "+-------------------+---------------+--------------------+\n",
      "|  0.486454409954852|           0.47|[290.0,100.0,1.0,...|\n",
      "| 0.5027058674191538|           0.45|[290.0,104.0,4.0,...|\n",
      "|0.42886741808072726|           0.46|[295.0,93.0,1.0,2...|\n",
      "|0.48763502982797524|           0.47|[296.0,99.0,2.0,3...|\n",
      "| 0.4721090308201181|           0.34|[297.0,96.0,2.0,2...|\n",
      "| 0.5682165893804023|           0.34|[298.0,98.0,2.0,4...|\n",
      "| 0.5613110894488953|           0.63|[299.0,100.0,3.0,...|\n",
      "| 0.5068962304161391|           0.42|[299.0,100.0,3.0,...|\n",
      "| 0.5627296508113693|           0.58|[300.0,99.0,1.0,1...|\n",
      "| 0.6164188785498779|           0.62|[300.0,100.0,3.12...|\n",
      "| 0.5583395482016189|           0.59|[300.0,101.0,3.0,...|\n",
      "|  0.550377226207303|           0.56|[300.0,102.0,2.0,...|\n",
      "| 0.5960554079395042|           0.63|[300.0,102.0,3.0,...|\n",
      "| 0.6100323986044072|           0.71|[300.0,104.0,3.0,...|\n",
      "| 0.5790372236642223|           0.44|[301.0,97.0,2.0,3...|\n",
      "|   0.59821286713807|           0.67|[301.0,98.0,1.0,2...|\n",
      "| 0.5831768244680786|           0.64|[301.0,99.0,2.0,3...|\n",
      "| 0.6500973466950193|           0.68|[301.0,104.0,3.0,...|\n",
      "| 0.5554482285622151|           0.56|[302.0,99.0,2.0,1...|\n",
      "| 0.5592130883167092|            0.5|[302.0,102.0,1.0,...|\n",
      "+-------------------+---------------+--------------------+\n",
      "only showing top 20 rows\n",
      "\n"
     ]
    }
   ],
   "source": [
    "# prediction\n",
    "\n",
    "predictions = linear_model.transform(test_df)\n",
    "predictions.select(\"prediction\",\"Chance of Admit\",\"features\").show()"
   ]
  },
  {
   "cell_type": "code",
   "execution_count": 24,
   "metadata": {},
   "outputs": [
    {
     "name": "stdout",
     "output_type": "stream",
     "text": [
      "R Squared (R2) on test data = 0.795967\n"
     ]
    }
   ],
   "source": [
    "from pyspark.ml.evaluation import RegressionEvaluator\n",
    "pred_evaluator = RegressionEvaluator(predictionCol=\"prediction\", \\\n",
    "                 labelCol=\"Chance of Admit\",metricName=\"r2\")\n",
    "print(\"R Squared (R2) on test data = %g\" % pred_evaluator.evaluate(predictions))"
   ]
  },
  {
   "cell_type": "code",
   "execution_count": 25,
   "metadata": {},
   "outputs": [],
   "source": [
    "spark.stop()"
   ]
  },
  {
   "cell_type": "code",
   "execution_count": null,
   "metadata": {},
   "outputs": [],
   "source": []
  }
 ],
 "metadata": {
  "kernelspec": {
   "display_name": "Python 3",
   "language": "python",
   "name": "python3"
  },
  "language_info": {
   "codemirror_mode": {
    "name": "ipython",
    "version": 3
   },
   "file_extension": ".py",
   "mimetype": "text/x-python",
   "name": "python",
   "nbconvert_exporter": "python",
   "pygments_lexer": "ipython3",
   "version": "3.7.3"
  }
 },
 "nbformat": 4,
 "nbformat_minor": 4
}